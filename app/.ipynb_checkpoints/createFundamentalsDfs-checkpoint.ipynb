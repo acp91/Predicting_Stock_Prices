{
 "cells": [
  {
   "cell_type": "markdown",
   "id": "025df9a7",
   "metadata": {},
   "source": [
    "# Import Libraries"
   ]
  },
  {
   "cell_type": "code",
   "execution_count": 1,
   "id": "1aa167f3",
   "metadata": {},
   "outputs": [],
   "source": [
    "import pandas as pd\n",
    "import numpy as np\n",
    "import matplotlib.pyplot as plt\n",
    "import yfinance as yf\n",
    "import yahoo_fin\n",
    "import datetime\n",
    "from datetime import date\n",
    "import yahoo_fin.stock_info as yfsi"
   ]
  },
  {
   "cell_type": "code",
   "execution_count": 2,
   "id": "59bc7f2c",
   "metadata": {},
   "outputs": [],
   "source": [
    "import lib.contentBasedRecom\n",
    "from lib.contentBasedRecom import createNames, colsForMatrix, returnColumn, createDf, getRecommendations"
   ]
  },
  {
   "cell_type": "markdown",
   "id": "97378254",
   "metadata": {},
   "source": [
    "# Change fundamentals in \"contentRecommRanges.txt\" beforehand if you would like to capture different brackets / values"
   ]
  },
  {
   "cell_type": "code",
   "execution_count": 3,
   "id": "1ec25a3e",
   "metadata": {},
   "outputs": [],
   "source": [
    "# create a list of relevant attributes\n",
    "attributes = open(\"contentRecommRanges.txt\", \"r\")\n",
    "attr_list = attributes.read().splitlines()"
   ]
  },
  {
   "cell_type": "code",
   "execution_count": 4,
   "id": "13f80074",
   "metadata": {},
   "outputs": [],
   "source": [
    "# import index\n",
    "data_sp500 = yfsi.tickers_sp500(True)\n",
    "data_sp500 = data_sp500.rename(columns={'GICS Sector': 'Sector'})"
   ]
  },
  {
   "cell_type": "markdown",
   "id": "cba1a6f0",
   "metadata": {},
   "source": [
    "# Create new dataFrames"
   ]
  },
  {
   "cell_type": "code",
   "execution_count": 8,
   "id": "cee5d758",
   "metadata": {
    "scrolled": true
   },
   "outputs": [
    {
     "name": "stderr",
     "output_type": "stream",
     "text": [
      "C:\\Users\\Andre\\anaconda3\\lib\\site-packages\\pandas\\core\\frame.py:3645: PerformanceWarning: DataFrame is highly fragmented.  This is usually the result of calling `frame.insert` many times, which has poor performance.  Consider joining all columns at once using pd.concat(axis=1) instead.  To get a de-fragmented frame, use `newframe = frame.copy()`\n",
      "  self[col] = value\n"
     ]
    }
   ],
   "source": [
    "my_df, my_df_extra = createDf(attr_list, data_sp500, sector=['Energy'])"
   ]
  },
  {
   "cell_type": "markdown",
   "id": "6db51cb7",
   "metadata": {},
   "source": [
    "# Save new df to file"
   ]
  },
  {
   "cell_type": "code",
   "execution_count": null,
   "id": "aa7a30f1",
   "metadata": {},
   "outputs": [],
   "source": [
    "my_df.to_csv('my_df', sep='\\t')"
   ]
  },
  {
   "cell_type": "code",
   "execution_count": null,
   "id": "c3a0bf99",
   "metadata": {},
   "outputs": [],
   "source": [
    "my_df_extra.to_csv('my_df_extra', sep='\\t')"
   ]
  }
 ],
 "metadata": {
  "kernelspec": {
   "display_name": "Python 3 (ipykernel)",
   "language": "python",
   "name": "python3"
  },
  "language_info": {
   "codemirror_mode": {
    "name": "ipython",
    "version": 3
   },
   "file_extension": ".py",
   "mimetype": "text/x-python",
   "name": "python",
   "nbconvert_exporter": "python",
   "pygments_lexer": "ipython3",
   "version": "3.9.7"
  }
 },
 "nbformat": 4,
 "nbformat_minor": 5
}
